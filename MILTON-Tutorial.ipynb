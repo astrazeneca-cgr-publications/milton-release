{
 "cells": [
  {
   "cell_type": "markdown",
   "metadata": {},
   "source": [
    "## Import relevant packages"
   ]
  },
  {
   "cell_type": "code",
   "execution_count": null,
   "metadata": {},
   "outputs": [],
   "source": [
    "import pandas as pd\n",
    "import os\n",
    "\n",
    "from milton import *\n",
    "from milton.batch import *\n",
    "from milton.data_source import UKB_DATA_LOCATION\n",
    "from milton.processing import GenderSpecNAStrategy, CategoricalNAStrategy"
   ]
  },
  {
   "cell_type": "markdown",
   "metadata": {},
   "source": [
    "## Start a local dask cluster"
   ]
  },
  {
   "cell_type": "code",
   "execution_count": null,
   "metadata": {},
   "outputs": [],
   "source": [
    "sess = Session('local')"
   ]
  },
  {
   "cell_type": "code",
   "execution_count": null,
   "metadata": {},
   "outputs": [],
   "source": [
    "sess"
   ]
  },
  {
   "cell_type": "code",
   "execution_count": null,
   "metadata": {},
   "outputs": [],
   "source": [
    "?Session"
   ]
  },
  {
   "cell_type": "markdown",
   "metadata": {},
   "source": [
    "## Define relevant functions"
   ]
  },
  {
   "cell_type": "code",
   "execution_count": null,
   "metadata": {},
   "outputs": [],
   "source": [
    "def make_v16_config(*, ancestry, ctl_ratio=19, time_model=ModelType.STANDARD, feature_set='67bm', feature_selection_iterations=None):\n",
    "    \"\"\"Configuration generator for the different predefined scenarios.\n",
    "    \n",
    "    ancestry (obj): Takes path to file containing relevant sample IDs\n",
    "    ctrl_ratio (int): Ratio of controls to cases (also used to determine number of iterations for olink feature selection). 19 for EUR ancestry and 67 biomarkers, 9 for all other ancestries/feature-sets\n",
    "    time_model (obj): Time-model to subset cases according to time lag between diagnosis and sample collection. Takes one of the following {ModelType.STANDARD, ModelType.PROGNOSTIC, ModelType.DIAGNOSTIC} for time-agnostic, prognostic and diagnostic time-models, respectively.\n",
    "    feature_set (str): Pre-implemented feature set to run MILTON on. Takes one of {'67bm', 'olink-only', 'olink-and-67bm'}\n",
    "    feature_selection_iterations: Number of iterations to perform Boruta feature selection for. In each iteration a different age-sex-number matched control set is sampled. Union of confirmed (or tentative, if selected) features across all iterations are used for further training XGBoost classifier. \n",
    "                                    - Unless otherwise stated, ctl_ratio is used as number of iterations for feature_selection.\n",
    "                                    - Set to 0 if no feature pre-selection is desired.\n",
    "                                    - No feature selection is performed for 67 biomarkers.\n",
    "                                    - To preserve any co-variates or features, use the conf().feature_selection.preserved option as shown below\n",
    "                                    \n",
    "    \"\"\"\n",
    "    \n",
    "    conf = Settings()\n",
    "\n",
    "    if ancestry:\n",
    "        # use specific settings, not the defaults\n",
    "        qv_model_dir, qv_subject_subset = ancestry\n",
    "        conf().analysis.qv_model_dir = qv_model_dir\n",
    "        conf().analysis.qv_subject_subset = qv_subject_subset\n",
    "        # specific ancestry means training is also constrained\n",
    "        ids = pd.read_csv(qv_subject_subset, usecols=['eid'])['eid']\n",
    "        conf().patients.used_subjects = ids.to_list()\n",
    "        \n",
    "    if ctl_ratio:\n",
    "        conf().patients.controls_to_cases_ratio = ctl_ratio\n",
    "        \n",
    "    if feature_selection_iterations is None:\n",
    "        feature_selection_iterations=ctl_ratio\n",
    "    \n",
    "    if feature_set=='67bm': #67 biomarkers only\n",
    "        conf.features.biomarkers = True\n",
    "        conf.features.respiratory=True\n",
    "        conf.features.overall_health=True\n",
    "        conf.features.olink = False\n",
    "        conf.features.olink_covariates = False\n",
    "    \n",
    "    elif feature_set=='olink-only': #olink proteomics only\n",
    "        conf.features.biomarkers = False\n",
    "        conf.features.olink = True\n",
    "        conf.features.olink_covariates = True\n",
    "\n",
    "        conf().feature_selection.iterations = feature_selection_iterations\n",
    "        conf().feature_selection.preserved = [  # all covariates\n",
    "            Col.AGE, \n",
    "            Col.GENDER, \n",
    "            'Alcohol intake frequency.',\n",
    "            'Illnesses of father',\n",
    "            'Illnesses of mother',\n",
    "            'Smoking status',\n",
    "            'Blood-type haplotype',\n",
    "            'Body mass index (BMI)'\n",
    "        ]\n",
    "    \n",
    "    elif feature_set=='olink-and-67bm': #olink and 67 bm\n",
    "        conf.features.biomarkers = True\n",
    "        conf.features.respiratory=True\n",
    "        conf.features.overall_health=True\n",
    "        conf.features.olink = True\n",
    "        conf.features.olink_covariates = True\n",
    "\n",
    "        conf().feature_selection.iterations = feature_selection_iterations #number of iterations to do feature selection for\n",
    "        conf().feature_selection.preserved = [  # all covariates\n",
    "            Col.AGE, \n",
    "            Col.GENDER, \n",
    "            'Alcohol intake frequency.',\n",
    "            'Illnesses of father',\n",
    "            'Illnesses of mother',\n",
    "            'Smoking status',\n",
    "            'Blood-type haplotype',\n",
    "            'Body mass index (BMI)'\n",
    "        ]\n",
    "        #also don't do feature selection of these 67 traits, just the olink proteins\n",
    "        ukb_biomarkers = DD.predefined(biomarkers=True, respiratory=True, overall_health=True)\\\n",
    "        .index.drop_duplicates()\\\n",
    "        .drop([Col.GENDER, Col.AGE])\\\n",
    "        .to_list()\n",
    "        conf().feature_selection.preserved.extend(ukb_biomarkers)\n",
    "    \n",
    "    else:\n",
    "        print('Feature set not defined. Proceeding with 67 biomarkers..')\n",
    "        conf.features.biomarkers = True\n",
    "        conf.features.respiratory=True\n",
    "        conf.features.overall_health=True\n",
    "        conf.features.olink = False\n",
    "        conf.features.olink_covariates = False\n",
    "        \n",
    "    \n",
    "    conf().preproc.na_imputation = 'median'\n",
    "    conf().preproc.na_imputation_extra = {\n",
    "        'Testosterone': GenderSpecNAStrategy(males='median', females='median'),\n",
    "        Col.RHEUMATOID_FACTOR: ('constant', 0.0),\n",
    "        Col.OESTRADIOL: GenderSpecNAStrategy(males=36.71, females=110.13),\n",
    "    }\n",
    "\n",
    "    conf().analysis.default_model = 'xgb'\n",
    "    conf().analysis.hyper_parameters = {\n",
    "        'n_estimators': [50, 100, 200, 300],\n",
    "    }\n",
    "    conf().analysis.hyper_param_metric = 'roc_auc' \n",
    "    conf().analysis.n_replicas = 10 #number of replicas to train XGBoost for. Different control sets (ctl_ratio x #cases) will be sampled per replica\n",
    "    conf().analysis.evaluate_all_replicas = True\n",
    "    \n",
    "    conf().analysis.model_type = time_model\n",
    "    return conf"
   ]
  },
  {
   "cell_type": "markdown",
   "metadata": {},
   "source": [
    "## Call function with relevant parameters"
   ]
  },
  {
   "cell_type": "code",
   "execution_count": null,
   "metadata": {},
   "outputs": [],
   "source": [
    "ctl_ratio=9\n",
    "time_model='time_agnostic'\n",
    "ancestry_name='EUR' #one of AFR, AMR, EAS, EUR, SAS \n",
    "feature_set='olink-and-67bm'\n",
    "#specify which ICD10 code to sample cases and controls from\n",
    "code='I871'\n",
    "out_dir=os.path.join('.', 'results', code, ancestry_name, feature_set, time_model)\n",
    "\n",
    "if not os.path.exists(out_dir):\n",
    "    os.makedirs(out_dir)\n",
    "\n",
    "if time_model=='time_agnostic':\n",
    "    timemodel=ModelType.STANDARD\n",
    "elif time_model=='prognostic':\n",
    "    timemodel=ModelType.PROGNOSTIC\n",
    "elif time_model=='diagnostic':\n",
    "    timemodel=ModelType.DIAGNOSTIC\n",
    "else:\n",
    "    print('time_model not defined')\n",
    "\n",
    "#call config function with relevant parameters\n",
    "settings = make_v16_config(\n",
    "    ancestry=(<path_to_sample_IDs_with_WGS_data_belonging_to_specified_ancestry>),\n",
    "    ctl_ratio=ctl_ratio,\n",
    "    time_model=timemodel,\n",
    "    feature_set=feature_set\n",
    "    \n",
    ")\n",
    "\n",
    "#specify which ICD10 code to use for cases and controls\n",
    "settings().patients.spec = ICD10.find_by_code(code)\n",
    "\n",
    "settings().analysis.min_cases = 0"
   ]
  },
  {
   "cell_type": "code",
   "execution_count": null,
   "metadata": {
    "collapsed": true,
    "jupyter": {
     "outputs_hidden": true
    }
   },
   "outputs": [],
   "source": [
    "settings()"
   ]
  },
  {
   "cell_type": "code",
   "execution_count": null,
   "metadata": {},
   "outputs": [],
   "source": []
  },
  {
   "cell_type": "markdown",
   "metadata": {},
   "source": [
    "Feel free to explore settings() object to look for more options that you think might require tweeking. Below I have captured the most common use cases.\n",
    "\n",
    "Please note that when specifying your own case/control ids, MILTON doesn't know which ICD10 to use for time-lag calculation. Therefore, only time-agnostic model is implemented in this case. Please perform the subsetting yourself while deriving case and control ids.\n",
    "\n",
    "**Cases and controls**\n",
    "\n",
    "- To specify multiple ICD10 codes\n",
    "\n",
    "```\n",
    "desired_codes=['N18', 'C50', 'C61', 'F30']\n",
    "all_codes_list=[]\n",
    "for code in desired_codes:\n",
    "    all_codes_list.append(list(ICD10.find_by_code(code)))\n",
    "    \n",
    "settings().patients.spec = list(itertools.chain(*all_codes_list))\n",
    "```\n",
    "\n",
    "- To specify your own list of cases and controls:\n",
    "\n",
    "    - using case ids only\n",
    "    \n",
    "    ```settings().patients.spec = pd.Series(1, index=case_ids)```\n",
    "\n",
    "    - using case and control ids\n",
    "    \n",
    "    ```settings().patients.spec = pd.concat([pd.Series(1, index=case_ids), pd.Series(0, index=control_ids)])```\n",
    "\n",
    "\n",
    "- To set minimum number of training cases to 0, default 100\n",
    "\n",
    "```settings().analysis.min_cases = 0```\n",
    "\n",
    "- To specify control subset for training XGBoost\n",
    "\n",
    "```settings().patients.training_controls = <list of control ids>```\n",
    "\n",
    "- To specify control subset for performing collapsing analysis\n",
    "\n",
    "```settings().patients.collapsing_controls = <list of control ids>```\n",
    "\n",
    "- To remove certain subjects from analysis.\n",
    "\n",
    "```settings().patients.used_subjects = list(set(settings().patients.used_subjects).difference(<list of subject ids to exclude>)```\n",
    "    \n",
    "- To perform low power collapsing analysis (only on subjects with Olink or NMR metabolomics data, for example, and not the entire UKB cohort)\n",
    "\n",
    "```settings().analysis.collapsing_on_data_index = True```\n",
    "\n",
    "\n",
    "**Features**\n",
    "\n",
    "- To run MILTON on a subset of proteins:\n",
    "\n",
    "```settings().features.olink = <list of olink protein names such as ['C2', 'TNF']>```\n",
    "\n",
    "- To add extra features from UKB based on their field ids:\n",
    "\n",
    "```settings().features.ukb_custom = [21025, 21027] #UKB field IDs for additional 7 features```\n",
    "\n",
    "**Custom feature imputation**\n",
    "\n",
    "```\n",
    "settings().preproc.na_imputation_extra = {\n",
    "            'Testosterone': GenderSpecNAStrategy(males='median', females='median'),\n",
    "            Col.RHEUMATOID_FACTOR: ('constant', 0.0),\n",
    "            Col.OESTRADIOL: GenderSpecNAStrategy(males=36.71, females=110.13),\n",
    "            'Had menopause': CategoricalNAStrategy(),\n",
    "            'Smoking status': CategoricalNAStrategy(),\n",
    "            'Age when periods started (menarche)': ('constant', -5), \n",
    "            'Age at first live birth': ('constant', -5),\n",
    "        }\n",
    "```"
   ]
  },
  {
   "cell_type": "markdown",
   "metadata": {},
   "source": [
    "## Run MILTON and save results to file"
   ]
  },
  {
   "cell_type": "code",
   "execution_count": null,
   "metadata": {},
   "outputs": [],
   "source": [
    "#run Evaluator and save report\n",
    "ev = Evaluator(settings)\n",
    "ev.run()\n",
    "ev.save_report(out_dir)"
   ]
  },
  {
   "cell_type": "code",
   "execution_count": null,
   "metadata": {},
   "outputs": [],
   "source": []
  }
 ],
 "metadata": {
  "kernelspec": {
   "display_name": "milton",
   "language": "python",
   "name": "milton"
  },
  "language_info": {
   "codemirror_mode": {
    "name": "ipython",
    "version": 3
   },
   "file_extension": ".py",
   "mimetype": "text/x-python",
   "name": "python",
   "nbconvert_exporter": "python",
   "pygments_lexer": "ipython3",
   "version": "3.12.4"
  }
 },
 "nbformat": 4,
 "nbformat_minor": 4
}
